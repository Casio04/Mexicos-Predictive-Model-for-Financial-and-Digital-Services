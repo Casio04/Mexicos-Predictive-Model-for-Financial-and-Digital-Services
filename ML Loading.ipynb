{
 "cells": [
  {
   "cell_type": "code",
   "execution_count": 25,
   "metadata": {},
   "outputs": [
    {
     "name": "stdout",
     "output_type": "stream",
     "text": [
      "Requirement already satisfied: pymongo in c:\\users\\carlo\\anaconda3\\lib\\site-packages (3.11.3)\n",
      "Note: you may need to restart the kernel to use updated packages.\n"
     ]
    }
   ],
   "source": [
    "pip install pymongo"
   ]
  },
  {
   "cell_type": "code",
   "execution_count": 16,
   "metadata": {},
   "outputs": [],
   "source": [
    "import pickle\n",
    "import pandas as pd\n",
    "import pymongo\n",
    "import numpy as np"
   ]
  },
  {
   "cell_type": "code",
   "execution_count": 11,
   "metadata": {},
   "outputs": [],
   "source": [
    "conn = 'mongodb://localhost:27017/'\n",
    "client = pymongo.MongoClient(conn)\n",
    "db = client.inclusion_financiera\n",
    "mun = db.municipios.find()\n",
    "municipios = pd.DataFrame(list(mun))"
   ]
  },
  {
   "cell_type": "code",
   "execution_count": 14,
   "metadata": {},
   "outputs": [],
   "source": [
    "municipios = municipios[['ENTIDAD', 'NOMBRE_ENTIDAD', 'MUNICIPIO', 'NOMBRE_MUNICIPIO', 'POBTOT',\n",
    "       'POBFEM', 'POBMAS', 'PEA', 'TVIVPARHAB', 'VPH_RADIO', 'VPH_TV',\n",
    "       'VPH_PC', 'VPH_TELEF', 'VPH_CEL', 'VPH_INTER', 'VPH_STVP', 'VPH_SPMVPI',\n",
    "       'VPH_CVJ','Sucursales_BC',\n",
    "       'Sucursales_BD', 'Sucursales_Socap', 'Sucursales_Sofipo',\n",
    "       'Total_Sucursales_dem', 'Corresponsales_dem', 'ATM', 'TPV_dem',\n",
    "       'Establecimientos_TPV_dem', 'Contratos_BM_dem', 'Cuentas_T1_dem', 'Cuentas_T2_dem',\n",
    "       'Cuentas_T3_dem', 'Cuentas_Trad_dem', 'Cuentas_Ah_dem', 'Dep_plazo_dem',\n",
    "       'T_debito_dem', 'T_cred_dem', 'C_hip_dem', 'C_grup_dem', 'Personal_dem',\n",
    "       'Nomina_dem', 'Automotriz_dem', 'ABCD_dem', 'Trans_TPV_dem',\n",
    "       'Trans_ATM_dem','ATM_dem']]"
   ]
  },
  {
   "cell_type": "code",
   "execution_count": 17,
   "metadata": {
    "collapsed": true
   },
   "outputs": [
    {
     "name": "stderr",
     "output_type": "stream",
     "text": [
      "C:\\Users\\Carlo\\anaconda3\\lib\\site-packages\\pandas\\core\\frame.py:2963: SettingWithCopyWarning: \n",
      "A value is trying to be set on a copy of a slice from a DataFrame.\n",
      "Try using .loc[row_indexer,col_indexer] = value instead\n",
      "\n",
      "See the caveats in the documentation: https://pandas.pydata.org/pandas-docs/stable/user_guide/indexing.html#returning-a-view-versus-a-copy\n",
      "  self[k1] = value[k2]\n"
     ]
    }
   ],
   "source": [
    "# Relative measures based on house holds for digital services:\n",
    "municipios[['VPH_RADIO', 'VPH_TV',\n",
    "       'VPH_PC', 'VPH_TELEF', 'VPH_CEL', 'VPH_INTER', 'VPH_STVP', 'VPH_SPMVPI',\n",
    "       'VPH_CVJ']] = municipios[['VPH_RADIO', 'VPH_TV',\n",
    "       'VPH_PC', 'VPH_TELEF', 'VPH_CEL', 'VPH_INTER', 'VPH_STVP', 'VPH_SPMVPI',\n",
    "       'VPH_CVJ']].div(municipios.TVIVPARHAB, axis=0)"
   ]
  },
  {
   "cell_type": "code",
   "execution_count": 18,
   "metadata": {},
   "outputs": [],
   "source": [
    "municipios[['Total_Sucursales_dem', 'Corresponsales_dem', 'ATM_dem', 'TPV_dem',\n",
    "       'Establecimientos_TPV_dem', 'Contratos_BM_dem', 'Cuentas_T1_dem', 'Cuentas_T2_dem',\n",
    "       'Cuentas_T3_dem', 'Cuentas_Trad_dem', 'Cuentas_Ah_dem', 'Dep_plazo_dem',\n",
    "       'T_debito_dem', 'T_cred_dem', 'C_hip_dem', 'C_grup_dem', 'Personal_dem',\n",
    "       'Nomina_dem', 'Automotriz_dem', 'ABCD_dem', 'Trans_TPV_dem',\n",
    "       'Trans_ATM_dem']] = municipios[['Total_Sucursales_dem', 'Corresponsales_dem', 'ATM_dem', 'TPV_dem',\n",
    "       'Establecimientos_TPV_dem', 'Contratos_BM_dem', 'Cuentas_T1_dem', 'Cuentas_T2_dem',\n",
    "       'Cuentas_T3_dem', 'Cuentas_Trad_dem', 'Cuentas_Ah_dem', 'Dep_plazo_dem',\n",
    "       'T_debito_dem', 'T_cred_dem', 'C_hip_dem', 'C_grup_dem', 'Personal_dem',\n",
    "       'Nomina_dem', 'Automotriz_dem', 'ABCD_dem', 'Trans_TPV_dem',\n",
    "       'Trans_ATM_dem']].div(10000, axis=0)"
   ]
  },
  {
   "cell_type": "code",
   "execution_count": 19,
   "metadata": {},
   "outputs": [],
   "source": [
    "exploratory = municipios.set_index(['MUNICIPIO','NOMBRE_MUNICIPIO'])\n",
    "\n",
    "exploratory = exploratory.drop(columns=['ENTIDAD', 'NOMBRE_ENTIDAD'])"
   ]
  },
  {
   "cell_type": "code",
   "execution_count": 20,
   "metadata": {},
   "outputs": [],
   "source": [
    "y2 = pd.DataFrame(exploratory['T_cred_dem'])\n",
    "y2= y2.reset_index()\n",
    "y2 = pd.DataFrame(y2['T_cred_dem'])"
   ]
  },
  {
   "cell_type": "code",
   "execution_count": 24,
   "metadata": {
    "scrolled": true
   },
   "outputs": [
    {
     "name": "stdout",
     "output_type": "stream",
     "text": [
      "[[0.33966514]]\n",
      "T_cred_dem    0.3741\n",
      "Name: 0, dtype: float64\n"
     ]
    },
    {
     "name": "stderr",
     "output_type": "stream",
     "text": [
      "C:\\Users\\Carlo\\anaconda3\\lib\\site-packages\\sklearn\\base.py:329: UserWarning: Trying to unpickle estimator LinearRegression from version 0.23.2 when using version 0.23.1. This might lead to breaking code or invalid results. Use at your own risk.\n",
      "  warnings.warn(\n"
     ]
    }
   ],
   "source": [
    "# [[VPH_PC, VPH_TELEF, VPH_STVP, Trans_ATM_dem, Personal_dem, Trans_TPV_dem, Contratos_BM_dem]]\n",
    "var = 'T_cred_dem'\n",
    "y2 = pd.DataFrame(exploratory[var])\n",
    "y2= y2.reset_index()\n",
    "y2 = pd.DataFrame(y2[var])\n",
    "v1 = 0.513630\n",
    "v2 = 0.437688\n",
    "v3 = 0.488712\n",
    "v4 = 2.2221\n",
    "v5 = 0.1227\n",
    "v6 = 2.5161\n",
    "v7 = 0.5403\n",
    "\n",
    "modelload = pickle.load(open('static/ML models/model_credit_cards.pkl','rb'))\n",
    "print(modelload.predict([[v1,v2,v3,v4,v5,v6,v7]]))\n",
    "print(y2.iloc[0])"
   ]
  },
  {
   "cell_type": "code",
   "execution_count": 29,
   "metadata": {},
   "outputs": [],
   "source": [
    "predicted = modelload.predict([[v1,v2,v3,v4,v5,v6,v7]])"
   ]
  },
  {
   "cell_type": "code",
   "execution_count": 33,
   "metadata": {},
   "outputs": [
    {
     "data": {
      "text/html": [
       "<div>\n",
       "<style scoped>\n",
       "    .dataframe tbody tr th:only-of-type {\n",
       "        vertical-align: middle;\n",
       "    }\n",
       "\n",
       "    .dataframe tbody tr th {\n",
       "        vertical-align: top;\n",
       "    }\n",
       "\n",
       "    .dataframe thead th {\n",
       "        text-align: right;\n",
       "    }\n",
       "</style>\n",
       "<table border=\"1\" class=\"dataframe\">\n",
       "  <thead>\n",
       "    <tr style=\"text-align: right;\">\n",
       "      <th></th>\n",
       "      <th>T_cred_dem</th>\n",
       "    </tr>\n",
       "  </thead>\n",
       "  <tbody>\n",
       "    <tr>\n",
       "      <th>0</th>\n",
       "      <td>0.3741</td>\n",
       "    </tr>\n",
       "    <tr>\n",
       "      <th>1</th>\n",
       "      <td>0.0274</td>\n",
       "    </tr>\n",
       "    <tr>\n",
       "      <th>2</th>\n",
       "      <td>0.1951</td>\n",
       "    </tr>\n",
       "    <tr>\n",
       "      <th>3</th>\n",
       "      <td>0.0319</td>\n",
       "    </tr>\n",
       "    <tr>\n",
       "      <th>4</th>\n",
       "      <td>0.1659</td>\n",
       "    </tr>\n",
       "    <tr>\n",
       "      <th>...</th>\n",
       "      <td>...</td>\n",
       "    </tr>\n",
       "    <tr>\n",
       "      <th>2464</th>\n",
       "      <td>0.0071</td>\n",
       "    </tr>\n",
       "    <tr>\n",
       "      <th>2465</th>\n",
       "      <td>0.1399</td>\n",
       "    </tr>\n",
       "    <tr>\n",
       "      <th>2466</th>\n",
       "      <td>0.5743</td>\n",
       "    </tr>\n",
       "    <tr>\n",
       "      <th>2467</th>\n",
       "      <td>0.0132</td>\n",
       "    </tr>\n",
       "    <tr>\n",
       "      <th>2468</th>\n",
       "      <td>0.0041</td>\n",
       "    </tr>\n",
       "  </tbody>\n",
       "</table>\n",
       "<p>2469 rows × 1 columns</p>\n",
       "</div>"
      ],
      "text/plain": [
       "      T_cred_dem\n",
       "0         0.3741\n",
       "1         0.0274\n",
       "2         0.1951\n",
       "3         0.0319\n",
       "4         0.1659\n",
       "...          ...\n",
       "2464      0.0071\n",
       "2465      0.1399\n",
       "2466      0.5743\n",
       "2467      0.0132\n",
       "2468      0.0041\n",
       "\n",
       "[2469 rows x 1 columns]"
      ]
     },
     "execution_count": 33,
     "metadata": {},
     "output_type": "execute_result"
    }
   ],
   "source": [
    "y2"
   ]
  },
  {
   "cell_type": "code",
   "execution_count": 35,
   "metadata": {},
   "outputs": [
    {
     "data": {
      "text/plain": [
       "0.3741"
      ]
     },
     "execution_count": 35,
     "metadata": {},
     "output_type": "execute_result"
    }
   ],
   "source": [
    "y2['T_cred_dem'].iloc[0]"
   ]
  },
  {
   "cell_type": "code",
   "execution_count": null,
   "metadata": {},
   "outputs": [],
   "source": []
  }
 ],
 "metadata": {
  "kernelspec": {
   "display_name": "Python 3",
   "language": "python",
   "name": "python3"
  },
  "language_info": {
   "codemirror_mode": {
    "name": "ipython",
    "version": 3
   },
   "file_extension": ".py",
   "mimetype": "text/x-python",
   "name": "python",
   "nbconvert_exporter": "python",
   "pygments_lexer": "ipython3",
   "version": "3.8.3"
  }
 },
 "nbformat": 4,
 "nbformat_minor": 4
}
